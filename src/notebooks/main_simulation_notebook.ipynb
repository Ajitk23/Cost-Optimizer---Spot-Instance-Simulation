{
 "cells": [
  {
   "cell_type": "code",
   "execution_count": 7,
   "id": "65613389",
   "metadata": {},
   "outputs": [],
   "source": [
    "import sys\n",
    "import os\n"
   ]
  },
  {
   "cell_type": "code",
   "execution_count": 1,
   "id": "94c0ada3",
   "metadata": {},
   "outputs": [
    {
     "ename": "ImportError",
     "evalue": "cannot import name 'plot_cost_comparison' from 'visualization' (d:\\BigData_Projects\\Cost-Optimizer---Spot-Instance-Simulation\\src\\visualization.py)",
     "output_type": "error",
     "traceback": [
      "\u001b[31m---------------------------------------------------------------------------\u001b[39m",
      "\u001b[31mImportError\u001b[39m                               Traceback (most recent call last)",
      "\u001b[36mCell\u001b[39m\u001b[36m \u001b[39m\u001b[32mIn[1]\u001b[39m\u001b[32m, line 3\u001b[39m\n\u001b[32m      1\u001b[39m \u001b[38;5;66;03m# Importing visualization module\u001b[39;00m\n\u001b[32m----> \u001b[39m\u001b[32m3\u001b[39m \u001b[38;5;28;01mfrom\u001b[39;00m\u001b[38;5;250m \u001b[39m\u001b[34;01mvisualization\u001b[39;00m\u001b[38;5;250m \u001b[39m\u001b[38;5;28;01mimport\u001b[39;00m plot_cost_comparison\n",
      "\u001b[31mImportError\u001b[39m: cannot import name 'plot_cost_comparison' from 'visualization' (d:\\BigData_Projects\\Cost-Optimizer---Spot-Instance-Simulation\\src\\visualization.py)"
     ]
    }
   ],
   "source": [
    "# Importing visualization module\n",
    "\n",
    "from visualization import plot_cost_comparison\n"
   ]
  }
 ],
 "metadata": {
  "kernelspec": {
   "display_name": "Python 3",
   "language": "python",
   "name": "python3"
  },
  "language_info": {
   "codemirror_mode": {
    "name": "ipython",
    "version": 3
   },
   "file_extension": ".py",
   "mimetype": "text/x-python",
   "name": "python",
   "nbconvert_exporter": "python",
   "pygments_lexer": "ipython3",
   "version": "3.11.11"
  }
 },
 "nbformat": 4,
 "nbformat_minor": 5
}
